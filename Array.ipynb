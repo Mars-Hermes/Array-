{
 "cells": [
  {
   "cell_type": "markdown",
   "id": "d9b0e6a7",
   "metadata": {},
   "source": [
    "Write a python program to get 5 numbers from user in array and sum all numbers and display the maximum number."
   ]
  },
  {
   "cell_type": "code",
   "execution_count": 1,
   "id": "1a395f3f",
   "metadata": {},
   "outputs": [
    {
     "name": "stdout",
     "output_type": "stream",
     "text": [
      "please enter a number:4\n",
      "please enter a number:6\n",
      "please enter a number:7\n",
      "please enter a number:3\n",
      "please enter a number:2\n",
      "sum of a = 22 and maximum of a = 7\n"
     ]
    }
   ],
   "source": [
    "a = []\n",
    "b = int(input(\"please enter a number:\"))\n",
    "c = int(input(\"please enter a number:\"))\n",
    "d = int(input(\"please enter a number:\"))\n",
    "e = int(input(\"please enter a number:\"))\n",
    "f = int(input(\"please enter a number:\"))\n",
    "a.append(b)\n",
    "a.append(c)\n",
    "a.append(d)\n",
    "a.append(e)\n",
    "a.append(f)\n",
    "sum_of_numbers = sum(a)\n",
    "maximum = max(a)\n",
    "print(f\"sum of a = {sum_of_numbers} and maximum of a = {maximum}\")"
   ]
  },
  {
   "cell_type": "code",
   "execution_count": null,
   "id": "9f613864",
   "metadata": {},
   "outputs": [],
   "source": []
  }
 ],
 "metadata": {
  "kernelspec": {
   "display_name": "Python 3 (ipykernel)",
   "language": "python",
   "name": "python3"
  },
  "language_info": {
   "codemirror_mode": {
    "name": "ipython",
    "version": 3
   },
   "file_extension": ".py",
   "mimetype": "text/x-python",
   "name": "python",
   "nbconvert_exporter": "python",
   "pygments_lexer": "ipython3",
   "version": "3.10.9"
  }
 },
 "nbformat": 4,
 "nbformat_minor": 5
}
